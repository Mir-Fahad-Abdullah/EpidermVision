{
  "cells": [
    {
      "cell_type": "markdown",
      "source": [
        "# Connect to drive"
      ],
      "metadata": {
        "id": "15GCD_HyL0rt"
      }
    },
    {
      "cell_type": "code",
      "source": [
        "from google.colab import drive\n",
        "drive.mount(\"/content/gdrive\")"
      ],
      "metadata": {
        "colab": {
          "base_uri": "https://localhost:8080/"
        },
        "id": "GSvIvLCTL5aD",
        "outputId": "0185c572-db8b-44bb-b06a-e7b69579d78f"
      },
      "execution_count": null,
      "outputs": [
        {
          "output_type": "stream",
          "name": "stdout",
          "text": [
            "Drive already mounted at /content/gdrive; to attempt to forcibly remount, call drive.mount(\"/content/gdrive\", force_remount=True).\n"
          ]
        }
      ]
    },
    {
      "cell_type": "markdown",
      "source": [
        "# Install necessary packages"
      ],
      "metadata": {
        "id": "YuWHhR-lL9jN"
      }
    },
    {
      "cell_type": "code",
      "source": [
        "!pip install tensorflow scikit-learn matplotlib"
      ],
      "metadata": {
        "colab": {
          "base_uri": "https://localhost:8080/"
        },
        "id": "Eic54YwAL_pB",
        "outputId": "8abc6b67-74d3-45fd-8fdd-4377e0270d26"
      },
      "execution_count": null,
      "outputs": [
        {
          "output_type": "stream",
          "name": "stdout",
          "text": [
            "Requirement already satisfied: tensorflow in /usr/local/lib/python3.10/dist-packages (2.15.0)\n",
            "Requirement already satisfied: scikit-learn in /usr/local/lib/python3.10/dist-packages (1.2.2)\n",
            "Requirement already satisfied: matplotlib in /usr/local/lib/python3.10/dist-packages (3.7.1)\n",
            "Requirement already satisfied: absl-py>=1.0.0 in /usr/local/lib/python3.10/dist-packages (from tensorflow) (1.4.0)\n",
            "Requirement already satisfied: astunparse>=1.6.0 in /usr/local/lib/python3.10/dist-packages (from tensorflow) (1.6.3)\n",
            "Requirement already satisfied: flatbuffers>=23.5.26 in /usr/local/lib/python3.10/dist-packages (from tensorflow) (24.3.25)\n",
            "Requirement already satisfied: gast!=0.5.0,!=0.5.1,!=0.5.2,>=0.2.1 in /usr/local/lib/python3.10/dist-packages (from tensorflow) (0.5.4)\n",
            "Requirement already satisfied: google-pasta>=0.1.1 in /usr/local/lib/python3.10/dist-packages (from tensorflow) (0.2.0)\n",
            "Requirement already satisfied: h5py>=2.9.0 in /usr/local/lib/python3.10/dist-packages (from tensorflow) (3.9.0)\n",
            "Requirement already satisfied: libclang>=13.0.0 in /usr/local/lib/python3.10/dist-packages (from tensorflow) (18.1.1)\n",
            "Requirement already satisfied: ml-dtypes~=0.2.0 in /usr/local/lib/python3.10/dist-packages (from tensorflow) (0.2.0)\n",
            "Requirement already satisfied: numpy<2.0.0,>=1.23.5 in /usr/local/lib/python3.10/dist-packages (from tensorflow) (1.25.2)\n",
            "Requirement already satisfied: opt-einsum>=2.3.2 in /usr/local/lib/python3.10/dist-packages (from tensorflow) (3.3.0)\n",
            "Requirement already satisfied: packaging in /usr/local/lib/python3.10/dist-packages (from tensorflow) (24.0)\n",
            "Requirement already satisfied: protobuf!=4.21.0,!=4.21.1,!=4.21.2,!=4.21.3,!=4.21.4,!=4.21.5,<5.0.0dev,>=3.20.3 in /usr/local/lib/python3.10/dist-packages (from tensorflow) (3.20.3)\n",
            "Requirement already satisfied: setuptools in /usr/local/lib/python3.10/dist-packages (from tensorflow) (67.7.2)\n",
            "Requirement already satisfied: six>=1.12.0 in /usr/local/lib/python3.10/dist-packages (from tensorflow) (1.16.0)\n",
            "Requirement already satisfied: termcolor>=1.1.0 in /usr/local/lib/python3.10/dist-packages (from tensorflow) (2.4.0)\n",
            "Requirement already satisfied: typing-extensions>=3.6.6 in /usr/local/lib/python3.10/dist-packages (from tensorflow) (4.11.0)\n",
            "Requirement already satisfied: wrapt<1.15,>=1.11.0 in /usr/local/lib/python3.10/dist-packages (from tensorflow) (1.14.1)\n",
            "Requirement already satisfied: tensorflow-io-gcs-filesystem>=0.23.1 in /usr/local/lib/python3.10/dist-packages (from tensorflow) (0.37.0)\n",
            "Requirement already satisfied: grpcio<2.0,>=1.24.3 in /usr/local/lib/python3.10/dist-packages (from tensorflow) (1.63.0)\n",
            "Requirement already satisfied: tensorboard<2.16,>=2.15 in /usr/local/lib/python3.10/dist-packages (from tensorflow) (2.15.2)\n",
            "Requirement already satisfied: tensorflow-estimator<2.16,>=2.15.0 in /usr/local/lib/python3.10/dist-packages (from tensorflow) (2.15.0)\n",
            "Requirement already satisfied: keras<2.16,>=2.15.0 in /usr/local/lib/python3.10/dist-packages (from tensorflow) (2.15.0)\n",
            "Requirement already satisfied: scipy>=1.3.2 in /usr/local/lib/python3.10/dist-packages (from scikit-learn) (1.11.4)\n",
            "Requirement already satisfied: joblib>=1.1.1 in /usr/local/lib/python3.10/dist-packages (from scikit-learn) (1.4.0)\n",
            "Requirement already satisfied: threadpoolctl>=2.0.0 in /usr/local/lib/python3.10/dist-packages (from scikit-learn) (3.5.0)\n",
            "Requirement already satisfied: contourpy>=1.0.1 in /usr/local/lib/python3.10/dist-packages (from matplotlib) (1.2.1)\n",
            "Requirement already satisfied: cycler>=0.10 in /usr/local/lib/python3.10/dist-packages (from matplotlib) (0.12.1)\n",
            "Requirement already satisfied: fonttools>=4.22.0 in /usr/local/lib/python3.10/dist-packages (from matplotlib) (4.51.0)\n",
            "Requirement already satisfied: kiwisolver>=1.0.1 in /usr/local/lib/python3.10/dist-packages (from matplotlib) (1.4.5)\n",
            "Requirement already satisfied: pillow>=6.2.0 in /usr/local/lib/python3.10/dist-packages (from matplotlib) (9.4.0)\n",
            "Requirement already satisfied: pyparsing>=2.3.1 in /usr/local/lib/python3.10/dist-packages (from matplotlib) (3.1.2)\n",
            "Requirement already satisfied: python-dateutil>=2.7 in /usr/local/lib/python3.10/dist-packages (from matplotlib) (2.8.2)\n",
            "Requirement already satisfied: wheel<1.0,>=0.23.0 in /usr/local/lib/python3.10/dist-packages (from astunparse>=1.6.0->tensorflow) (0.43.0)\n",
            "Requirement already satisfied: google-auth<3,>=1.6.3 in /usr/local/lib/python3.10/dist-packages (from tensorboard<2.16,>=2.15->tensorflow) (2.27.0)\n",
            "Requirement already satisfied: google-auth-oauthlib<2,>=0.5 in /usr/local/lib/python3.10/dist-packages (from tensorboard<2.16,>=2.15->tensorflow) (1.2.0)\n",
            "Requirement already satisfied: markdown>=2.6.8 in /usr/local/lib/python3.10/dist-packages (from tensorboard<2.16,>=2.15->tensorflow) (3.6)\n",
            "Requirement already satisfied: requests<3,>=2.21.0 in /usr/local/lib/python3.10/dist-packages (from tensorboard<2.16,>=2.15->tensorflow) (2.31.0)\n",
            "Requirement already satisfied: tensorboard-data-server<0.8.0,>=0.7.0 in /usr/local/lib/python3.10/dist-packages (from tensorboard<2.16,>=2.15->tensorflow) (0.7.2)\n",
            "Requirement already satisfied: werkzeug>=1.0.1 in /usr/local/lib/python3.10/dist-packages (from tensorboard<2.16,>=2.15->tensorflow) (3.0.2)\n",
            "Requirement already satisfied: cachetools<6.0,>=2.0.0 in /usr/local/lib/python3.10/dist-packages (from google-auth<3,>=1.6.3->tensorboard<2.16,>=2.15->tensorflow) (5.3.3)\n",
            "Requirement already satisfied: pyasn1-modules>=0.2.1 in /usr/local/lib/python3.10/dist-packages (from google-auth<3,>=1.6.3->tensorboard<2.16,>=2.15->tensorflow) (0.4.0)\n",
            "Requirement already satisfied: rsa<5,>=3.1.4 in /usr/local/lib/python3.10/dist-packages (from google-auth<3,>=1.6.3->tensorboard<2.16,>=2.15->tensorflow) (4.9)\n",
            "Requirement already satisfied: requests-oauthlib>=0.7.0 in /usr/local/lib/python3.10/dist-packages (from google-auth-oauthlib<2,>=0.5->tensorboard<2.16,>=2.15->tensorflow) (1.3.1)\n",
            "Requirement already satisfied: charset-normalizer<4,>=2 in /usr/local/lib/python3.10/dist-packages (from requests<3,>=2.21.0->tensorboard<2.16,>=2.15->tensorflow) (3.3.2)\n",
            "Requirement already satisfied: idna<4,>=2.5 in /usr/local/lib/python3.10/dist-packages (from requests<3,>=2.21.0->tensorboard<2.16,>=2.15->tensorflow) (3.7)\n",
            "Requirement already satisfied: urllib3<3,>=1.21.1 in /usr/local/lib/python3.10/dist-packages (from requests<3,>=2.21.0->tensorboard<2.16,>=2.15->tensorflow) (2.0.7)\n",
            "Requirement already satisfied: certifi>=2017.4.17 in /usr/local/lib/python3.10/dist-packages (from requests<3,>=2.21.0->tensorboard<2.16,>=2.15->tensorflow) (2024.2.2)\n",
            "Requirement already satisfied: MarkupSafe>=2.1.1 in /usr/local/lib/python3.10/dist-packages (from werkzeug>=1.0.1->tensorboard<2.16,>=2.15->tensorflow) (2.1.5)\n",
            "Requirement already satisfied: pyasn1<0.7.0,>=0.4.6 in /usr/local/lib/python3.10/dist-packages (from pyasn1-modules>=0.2.1->google-auth<3,>=1.6.3->tensorboard<2.16,>=2.15->tensorflow) (0.6.0)\n",
            "Requirement already satisfied: oauthlib>=3.0.0 in /usr/local/lib/python3.10/dist-packages (from requests-oauthlib>=0.7.0->google-auth-oauthlib<2,>=0.5->tensorboard<2.16,>=2.15->tensorflow) (3.2.2)\n"
          ]
        }
      ]
    },
    {
      "cell_type": "markdown",
      "source": [
        "# Importing Libraries"
      ],
      "metadata": {
        "id": "7h_WGJ7gMP7n"
      }
    },
    {
      "cell_type": "code",
      "source": [
        "\n",
        "from tensorflow import keras\n",
        "from tensorflow.keras.applications.densenet import DenseNet121\n",
        "from tensorflow.keras.preprocessing.image import ImageDataGenerator\n",
        "from tensorflow.keras.models import Sequential\n",
        "from tensorflow.keras.layers import Conv2D, Flatten, MaxPooling2D, Dense, Dropout, GlobalAveragePooling2D\n",
        "from tensorflow.keras import optimizers, losses\n",
        "from tensorflow.keras.callbacks import ModelCheckpoint\n",
        "from tensorflow.keras.preprocessing import image\n",
        "\n",
        "import pickle\n",
        "import numpy as np\n",
        "import matplotlib.pyplot as plt\n",
        "\n",
        "import warnings\n",
        "warnings.filterwarnings(\"ignore\")"
      ],
      "outputs": [],
      "execution_count": null,
      "metadata": {
        "execution": {
          "iopub.status.busy": "2022-09-13T11:59:38.191819Z",
          "iopub.execute_input": "2022-09-13T11:59:38.192551Z",
          "iopub.status.idle": "2022-09-13T11:59:45.739150Z",
          "shell.execute_reply.started": "2022-09-13T11:59:38.192452Z",
          "shell.execute_reply": "2022-09-13T11:59:45.737589Z"
        },
        "trusted": true,
        "id": "geo-jTk0Lgqk"
      }
    },
    {
      "cell_type": "code",
      "source": [
        "data_dir = '/content/gdrive/MyDrive/ISIC_Labelled -4GB'"
      ],
      "outputs": [],
      "execution_count": null,
      "metadata": {
        "execution": {
          "iopub.status.busy": "2022-09-13T12:00:00.081397Z",
          "iopub.execute_input": "2022-09-13T12:00:00.082100Z",
          "iopub.status.idle": "2022-09-13T12:00:00.087449Z",
          "shell.execute_reply.started": "2022-09-13T12:00:00.082061Z",
          "shell.execute_reply": "2022-09-13T12:00:00.086023Z"
        },
        "trusted": true,
        "id": "Iil014U2Lgql"
      }
    },
    {
      "cell_type": "markdown",
      "source": [
        "# Load Images For Training & Testing"
      ],
      "metadata": {
        "id": "pVc6OmusLgqm"
      }
    },
    {
      "cell_type": "code",
      "execution_count": null,
      "metadata": {
        "colab": {
          "base_uri": "https://localhost:8080/"
        },
        "id": "5e3e7e65-71b8-45ae-a365-70198f1de81b",
        "outputId": "52836515-1d36-4fe4-9aa0-891190b4c465"
      },
      "outputs": [
        {
          "output_type": "stream",
          "name": "stdout",
          "text": [
            "Found 6837 images belonging to 8 classes.\n",
            "Found 1704 images belonging to 8 classes.\n"
          ]
        }
      ],
      "source": [
        "datagenerator = {\n",
        "    \"train\": ImageDataGenerator(horizontal_flip=True,\n",
        "                                vertical_flip=True,\n",
        "                                rescale=1 / 255,\n",
        "                                validation_split=0.2,\n",
        "                                shear_range=0.1,\n",
        "                                zoom_range=0.1,\n",
        "                                width_shift_range=0.1,\n",
        "                                height_shift_range=0.1,\n",
        "                                rotation_range=30,\n",
        "                               ).flow_from_directory(directory= data_dir,\n",
        "                                                     target_size=(256, 256),\n",
        "                                                     subset='training',\n",
        "                                                    ),\n",
        "\n",
        "    \"valid\": ImageDataGenerator(rescale=1 / 255,\n",
        "                                validation_split=0.2,\n",
        "                               ).flow_from_directory(directory=data_dir,\n",
        "                                                     target_size=(256, 256),\n",
        "                                                     subset='validation',\n",
        "                                                    ),\n",
        "}"
      ]
    },
    {
      "cell_type": "markdown",
      "source": [
        "# Initialize Densenet-121 Pretrained Model"
      ],
      "metadata": {
        "id": "SggUmwiTLgqo"
      }
    },
    {
      "cell_type": "code",
      "source": [
        "# Initializing DenseNet121 (pretrained) model with input image shape as (300, 300, 3)\n",
        "base_model = DenseNet121(weights='imagenet', include_top=False, input_shape=(256, 256, 3), classes=8)\n",
        "\n",
        "# Setting the Training of all layers of InceptionV3 model to false\n",
        "base_model.trainable = False\n"
      ],
      "outputs": [],
      "execution_count": null,
      "metadata": {
        "execution": {
          "iopub.status.busy": "2022-09-13T12:02:01.228000Z",
          "iopub.execute_input": "2022-09-13T12:02:01.228406Z",
          "iopub.status.idle": "2022-09-13T12:02:05.410954Z",
          "shell.execute_reply.started": "2022-09-13T12:02:01.228377Z",
          "shell.execute_reply": "2022-09-13T12:02:05.409751Z"
        },
        "trusted": true,
        "id": "PG3asWf_Lgqo"
      }
    },
    {
      "cell_type": "markdown",
      "source": [
        "# Add Custom Layer"
      ],
      "metadata": {
        "id": "Jrb4H6-QLgqp"
      }
    },
    {
      "cell_type": "code",
      "source": [
        "# Adding some more layers at the end of the Model as per our requirement\n",
        "model = Sequential([\n",
        "    base_model,\n",
        "    GlobalAveragePooling2D(),\n",
        "    Dropout(0.15),\n",
        "    Dense(1024, activation='relu'),\n",
        "    Dense(8, activation='softmax') # 8 Output Neurons for 8 Classes\n",
        "])"
      ],
      "outputs": [],
      "execution_count": null,
      "metadata": {
        "execution": {
          "iopub.status.busy": "2022-09-13T12:03:37.393107Z",
          "iopub.execute_input": "2022-09-13T12:03:37.393547Z",
          "iopub.status.idle": "2022-09-13T12:03:38.323576Z",
          "shell.execute_reply.started": "2022-09-13T12:03:37.393516Z",
          "shell.execute_reply": "2022-09-13T12:03:38.322546Z"
        },
        "trusted": true,
        "id": "iBhjgUmcLgqq"
      }
    },
    {
      "cell_type": "code",
      "source": [
        "# Using the Adam Optimizer to set the learning rate of our final model\n",
        "opt = optimizers.Adam(learning_rate=0.0001)\n",
        "\n",
        "# Compiling and setting the parameters we want our model to use\n",
        "model.compile(loss=\"categorical_crossentropy\", optimizer=opt, metrics=['accuracy'])"
      ],
      "outputs": [],
      "execution_count": null,
      "metadata": {
        "execution": {
          "iopub.status.busy": "2022-09-13T12:03:41.556066Z",
          "iopub.execute_input": "2022-09-13T12:03:41.556749Z",
          "iopub.status.idle": "2022-09-13T12:03:41.573226Z",
          "shell.execute_reply.started": "2022-09-13T12:03:41.556711Z",
          "shell.execute_reply": "2022-09-13T12:03:41.572073Z"
        },
        "trusted": true,
        "id": "V7-nU-pOLgqq"
      }
    },
    {
      "cell_type": "markdown",
      "source": [
        "# View Model Summary & Plot\n"
      ],
      "metadata": {
        "id": "3k3owtn-Lgqr"
      }
    },
    {
      "cell_type": "code",
      "source": [
        "# Viewing the summary of the model\n",
        "model.summary()"
      ],
      "outputs": [
        {
          "output_type": "stream",
          "name": "stdout",
          "text": [
            "Model: \"sequential\"\n",
            "_________________________________________________________________\n",
            " Layer (type)                Output Shape              Param #   \n",
            "=================================================================\n",
            " densenet121 (Functional)    (None, 8, 8, 1024)        7037504   \n",
            "                                                                 \n",
            " global_average_pooling2d (  (None, 1024)              0         \n",
            " GlobalAveragePooling2D)                                         \n",
            "                                                                 \n",
            " dropout (Dropout)           (None, 1024)              0         \n",
            "                                                                 \n",
            " dense (Dense)               (None, 1024)              1049600   \n",
            "                                                                 \n",
            " dense_1 (Dense)             (None, 8)                 8200      \n",
            "                                                                 \n",
            "=================================================================\n",
            "Total params: 8095304 (30.88 MB)\n",
            "Trainable params: 1057800 (4.04 MB)\n",
            "Non-trainable params: 7037504 (26.85 MB)\n",
            "_________________________________________________________________\n"
          ]
        }
      ],
      "execution_count": null,
      "metadata": {
        "execution": {
          "iopub.status.busy": "2022-09-13T12:03:43.916177Z",
          "iopub.execute_input": "2022-09-13T12:03:43.916895Z",
          "iopub.status.idle": "2022-09-13T12:03:43.944044Z",
          "shell.execute_reply.started": "2022-09-13T12:03:43.916857Z",
          "shell.execute_reply": "2022-09-13T12:03:43.943185Z"
        },
        "trusted": true,
        "colab": {
          "base_uri": "https://localhost:8080/"
        },
        "id": "JXX4cT6GLgqr",
        "outputId": "9d184f9f-4ca0-485b-8538-4b104910d5e4"
      }
    },
    {
      "cell_type": "code",
      "source": [
        "from tensorflow.keras.utils import plot_model\n",
        "plot_model(model, show_shapes=True, show_layer_names=True)"
      ],
      "outputs": [
        {
          "output_type": "execute_result",
          "data": {
            "image/png": "[encoded data removed]",
            "text/plain": [
              "<IPython.core.display.Image object>"
            ]
          },
          "metadata": {},
          "execution_count": 11
        }
      ],
      "execution_count": null,
      "metadata": {
        "execution": {
          "iopub.status.busy": "2022-09-13T12:03:46.955923Z",
          "iopub.execute_input": "2022-09-13T12:03:46.956314Z",
          "iopub.status.idle": "2022-09-13T12:03:47.119425Z",
          "shell.execute_reply.started": "2022-09-13T12:03:46.956282Z",
          "shell.execute_reply": "2022-09-13T12:03:47.117772Z"
        },
        "trusted": true,
        "colab": {
          "base_uri": "https://localhost:8080/",
          "height": 644
        },
        "id": "TegY2x3YLgqr",
        "outputId": "f18feb4f-4cbc-4ec6-ca6f-8333337ba8ed"
      }
    },
    {
      "cell_type": "markdown",
      "source": [
        "# Model Building\n"
      ],
      "metadata": {
        "id": "3CRAXy9HLgqr"
      }
    },
    {
      "cell_type": "code",
      "source": [
        "# Setting variables for the model\n",
        "batch_size = 16\n",
        "epochs = 30\n",
        "\n",
        "# Seperating Training and Testing Data\n",
        "train_generator = datagenerator[\"train\"]\n",
        "valid_generator = datagenerator[\"valid\"]"
      ],
      "outputs": [],
      "execution_count": null,
      "metadata": {
        "execution": {
          "iopub.status.busy": "2022-09-13T12:03:50.337505Z",
          "iopub.execute_input": "2022-09-13T12:03:50.338546Z",
          "iopub.status.idle": "2022-09-13T12:03:50.344351Z",
          "shell.execute_reply.started": "2022-09-13T12:03:50.338493Z",
          "shell.execute_reply": "2022-09-13T12:03:50.343031Z"
        },
        "trusted": true,
        "id": "qHz5MuO8Lgqr"
      }
    },
    {
      "cell_type": "code",
      "source": [
        "# Calculating variables for the model\n",
        "steps_per_epoch = train_generator.n // batch_size\n",
        "validation_steps = valid_generator.n // batch_size\n",
        "\n",
        "print(\"steps_per_epoch :\", steps_per_epoch)\n",
        "print(\"validation_steps :\", validation_steps)"
      ],
      "outputs": [
        {
          "output_type": "stream",
          "name": "stdout",
          "text": [
            "steps_per_epoch : 427\n",
            "validation_steps : 106\n"
          ]
        }
      ],
      "execution_count": null,
      "metadata": {
        "execution": {
          "iopub.status.busy": "2022-09-13T12:03:52.274086Z",
          "iopub.execute_input": "2022-09-13T12:03:52.274535Z",
          "iopub.status.idle": "2022-09-13T12:03:52.281289Z",
          "shell.execute_reply.started": "2022-09-13T12:03:52.274499Z",
          "shell.execute_reply": "2022-09-13T12:03:52.280142Z"
        },
        "trusted": true,
        "colab": {
          "base_uri": "https://localhost:8080/"
        },
        "id": "XVRueF2lLgqr",
        "outputId": "e42fc981-c2cd-4058-f24b-baa9249a5207"
      }
    },
    {
      "cell_type": "markdown",
      "source": [
        "# Model Training\n"
      ],
      "metadata": {
        "id": "rYHYskbZLgqs"
      }
    },
    {
      "cell_type": "code",
      "source": [
        "history = model.fit(\n",
        "    train_generator,\n",
        "    steps_per_epoch=train_generator.samples // train_generator.batch_size,\n",
        "    epochs=30,\n",
        "    validation_data=valid_generator,\n",
        "    validation_steps=valid_generator.samples // valid_generator.batch_size,\n",
        "    verbose=1\n",
        ")"
      ],
      "outputs": [
        {
          "output_type": "stream",
          "name": "stdout",
          "text": [
            "Epoch 1/30\n",
            "213/213 [==============================] - 2516s 12s/step - loss: 1.5489 - accuracy: 0.4354 - val_loss: 1.3640 - val_accuracy: 0.5071\n",
            "Epoch 2/30\n",
            "213/213 [==============================] - 2325s 11s/step - loss: 1.3709 - accuracy: 0.4999 - val_loss: 1.2742 - val_accuracy: 0.5472\n",
            "Epoch 3/30\n",
            "213/213 [==============================] - 2393s 11s/step - loss: 1.3192 - accuracy: 0.5109 - val_loss: 1.2475 - val_accuracy: 0.5377\n",
            "Epoch 4/30\n",
            "213/213 [==============================] - 2339s 11s/step - loss: 1.2862 - accuracy: 0.5278 - val_loss: 1.2249 - val_accuracy: 0.5448\n",
            "Epoch 5/30\n",
            "213/213 [==============================] - 2337s 11s/step - loss: 1.2553 - accuracy: 0.5412 - val_loss: 1.1993 - val_accuracy: 0.5672\n",
            "Epoch 6/30\n",
            "213/213 [==============================] - 2339s 11s/step - loss: 1.2458 - accuracy: 0.5362 - val_loss: 1.1994 - val_accuracy: 0.5643\n",
            "Epoch 7/30\n",
            "213/213 [==============================] - 2394s 11s/step - loss: 1.2219 - accuracy: 0.5530 - val_loss: 1.1940 - val_accuracy: 0.5584\n",
            "Epoch 8/30\n",
            "213/213 [==============================] - 2391s 11s/step - loss: 1.2062 - accuracy: 0.5542 - val_loss: 1.1779 - val_accuracy: 0.5755\n",
            "Epoch 9/30\n",
            "213/213 [==============================] - 2405s 11s/step - loss: 1.1940 - accuracy: 0.5553 - val_loss: 1.1524 - val_accuracy: 0.5719\n",
            "Epoch 10/30\n",
            "213/213 [==============================] - 2396s 11s/step - loss: 1.1881 - accuracy: 0.5586 - val_loss: 1.1782 - val_accuracy: 0.5584\n",
            "Epoch 11/30\n",
            "213/213 [==============================] - 2345s 11s/step - loss: 1.1727 - accuracy: 0.5652 - val_loss: 1.1546 - val_accuracy: 0.5684\n",
            "Epoch 12/30\n",
            "213/213 [==============================] - 2404s 11s/step - loss: 1.1643 - accuracy: 0.5711 - val_loss: 1.1243 - val_accuracy: 0.5831\n",
            "Epoch 13/30\n",
            "213/213 [==============================] - 2404s 11s/step - loss: 1.1532 - accuracy: 0.5735 - val_loss: 1.1398 - val_accuracy: 0.5749\n",
            "Epoch 14/30\n",
            "213/213 [==============================] - 2329s 11s/step - loss: 1.1482 - accuracy: 0.5721 - val_loss: 1.1432 - val_accuracy: 0.5790\n",
            "Epoch 15/30\n",
            "213/213 [==============================] - 2314s 11s/step - loss: 1.1405 - accuracy: 0.5787 - val_loss: 1.1403 - val_accuracy: 0.5696\n",
            "Epoch 16/30\n",
            "213/213 [==============================] - 2300s 11s/step - loss: 1.1183 - accuracy: 0.5846 - val_loss: 1.0907 - val_accuracy: 0.5955\n",
            "Epoch 17/30\n",
            "213/213 [==============================] - 2314s 11s/step - loss: 1.1081 - accuracy: 0.5915 - val_loss: 1.1179 - val_accuracy: 0.5855\n",
            "Epoch 18/30\n",
            "200/213 [===========================>..] - ETA: 1:53 - loss: 1.1139 - accuracy: 0.5932"
          ]
        }
      ],
      "execution_count": null,
      "metadata": {
        "execution": {
          "iopub.status.busy": "2022-09-13T12:03:55.591797Z",
          "iopub.execute_input": "2022-09-13T12:03:55.592200Z",
          "iopub.status.idle": "2022-09-13T12:23:07.287435Z",
          "shell.execute_reply.started": "2022-09-13T12:03:55.592170Z",
          "shell.execute_reply": "2022-09-13T12:23:07.286071Z"
        },
        "trusted": true,
        "colab": {
          "base_uri": "https://localhost:8080/"
        },
        "id": "L1QwpduGLgqs",
        "outputId": "d5eb53dd-fc8d-4260-d296-ac7d52995f12"
      }
    },
    {
      "cell_type": "markdown",
      "source": [
        "#  Model Evaluation\n"
      ],
      "metadata": {
        "id": "7x1q6EmULgqs"
      }
    },
    {
      "cell_type": "code",
      "source": [
        "acc = history.history['accuracy']\n",
        "val_acc = history.history['val_accuracy']\n",
        "\n",
        "loss = history.history['loss']\n",
        "val_loss = history.history['val_loss']\n",
        "\n",
        "# ________________ Graph 1 -------------------------\n",
        "\n",
        "plt.figure(figsize=(8, 8))\n",
        "plt.subplot(2, 1, 1)\n",
        "plt.plot(acc, label='Training Accuracy')\n",
        "plt.plot(val_acc, label='Validation Accuracy')\n",
        "plt.legend(loc='lower right')\n",
        "plt.ylabel('Accuracy')\n",
        "plt.ylim([min(plt.ylim()),1])\n",
        "plt.title('Training and Validation Accuracy')\n",
        "\n",
        "# ________________ Graph 2 -------------------------\n",
        "\n",
        "plt.subplot(2, 1, 2)\n",
        "plt.plot(loss, label='Training Loss')\n",
        "plt.plot(val_loss, label='Validation Loss')\n",
        "plt.legend(loc='upper right')\n",
        "plt.ylabel('Cross Entropy')\n",
        "plt.ylim([0,max(plt.ylim())])\n",
        "plt.title('Training and Validation Loss')\n",
        "plt.show()"
      ],
      "outputs": [],
      "execution_count": null,
      "metadata": {
        "execution": {
          "iopub.status.busy": "2022-09-13T12:24:56.867182Z",
          "iopub.execute_input": "2022-09-13T12:24:56.867607Z",
          "iopub.status.idle": "2022-09-13T12:24:57.241839Z",
          "shell.execute_reply.started": "2022-09-13T12:24:56.867574Z",
          "shell.execute_reply": "2022-09-13T12:24:57.240306Z"
        },
        "trusted": true,
        "id": "Hsd8GspwLgqu"
      }
    },
    {
      "cell_type": "code",
      "source": [
        "# Calculate the Loss and Accuracy on the Validation Data\n",
        "test_loss, test_acc = model.evaluate(valid_generator)\n",
        "print('test accuracy : ', test_acc)"
      ],
      "outputs": [],
      "execution_count": null,
      "metadata": {
        "execution": {
          "iopub.status.busy": "2022-09-13T12:25:03.217102Z",
          "iopub.execute_input": "2022-09-13T12:25:03.217509Z",
          "iopub.status.idle": "2022-09-13T12:25:15.305940Z",
          "shell.execute_reply.started": "2022-09-13T12:25:03.217477Z",
          "shell.execute_reply": "2022-09-13T12:25:15.304782Z"
        },
        "trusted": true,
        "id": "zspIGoSqLgqu"
      }
    }
  ],
  "metadata": {
    "kernelspec": {
      "language": "python",
      "display_name": "Python 3",
      "name": "python3"
    },
    "language_info": {
      "name": "python",
      "version": "3.7.12",
      "mimetype": "text/x-python",
      "codemirror_mode": {
        "name": "ipython",
        "version": 3
      },
      "pygments_lexer": "ipython3",
      "nbconvert_exporter": "python",
      "file_extension": ".py"
    },
    "nteract": {
      "version": "0.28.0"
    },
    "colab": {
      "provenance": []
    }
  },
  "nbformat": 4,
  "nbformat_minor": 0
}