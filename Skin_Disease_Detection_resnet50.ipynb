{
  "cells": [
    {
      "cell_type": "markdown",
      "metadata": {
        "id": "cGGbDoJUGH31"
      },
      "source": [
        "# Connect to drive"
      ]
    },
    {
      "cell_type": "code",
      "execution_count": null,
      "metadata": {
        "colab": {
          "base_uri": "https://localhost:8080/"
        },
        "id": "haV8sSl6GG9m",
        "outputId": "eb8dc4e3-3b1c-467b-dddb-3b8458efc590"
      },
      "outputs": [
        {
          "output_type": "stream",
          "name": "stdout",
          "text": [
            "Mounted at /content/gdrive\n"
          ]
        }
      ],
      "source": [
        "from google.colab import drive\n",
        "drive.mount(\"/content/gdrive\")"
      ]
    },
    {
      "cell_type": "markdown",
      "metadata": {
        "id": "yPJ1cRilGwLt"
      },
      "source": [
        "# Install necessary packages"
      ]
    },
    {
      "cell_type": "code",
      "execution_count": null,
      "metadata": {
        "colab": {
          "base_uri": "https://localhost:8080/"
        },
        "id": "2ES2R72vGviV",
        "outputId": "cce984ed-890b-409c-a878-9f3a4910a739"
      },
      "outputs": [
        {
          "output_type": "stream",
          "name": "stdout",
          "text": [
            "Requirement already satisfied: tensorflow in /usr/local/lib/python3.10/dist-packages (2.15.0)\n",
            "Requirement already satisfied: scikit-learn in /usr/local/lib/python3.10/dist-packages (1.2.2)\n",
            "Requirement already satisfied: matplotlib in /usr/local/lib/python3.10/dist-packages (3.7.1)\n",
            "Requirement already satisfied: absl-py>=1.0.0 in /usr/local/lib/python3.10/dist-packages (from tensorflow) (1.4.0)\n",
            "Requirement already satisfied: astunparse>=1.6.0 in /usr/local/lib/python3.10/dist-packages (from tensorflow) (1.6.3)\n",
            "Requirement already satisfied: flatbuffers>=23.5.26 in /usr/local/lib/python3.10/dist-packages (from tensorflow) (24.3.25)\n",
            "Requirement already satisfied: gast!=0.5.0,!=0.5.1,!=0.5.2,>=0.2.1 in /usr/local/lib/python3.10/dist-packages (from tensorflow) (0.5.4)\n",
            "Requirement already satisfied: google-pasta>=0.1.1 in /usr/local/lib/python3.10/dist-packages (from tensorflow) (0.2.0)\n",
            "Requirement already satisfied: h5py>=2.9.0 in /usr/local/lib/python3.10/dist-packages (from tensorflow) (3.9.0)\n",
            "Requirement already satisfied: libclang>=13.0.0 in /usr/local/lib/python3.10/dist-packages (from tensorflow) (18.1.1)\n",
            "Requirement already satisfied: ml-dtypes~=0.2.0 in /usr/local/lib/python3.10/dist-packages (from tensorflow) (0.2.0)\n",
            "Requirement already satisfied: numpy<2.0.0,>=1.23.5 in /usr/local/lib/python3.10/dist-packages (from tensorflow) (1.25.2)\n",
            "Requirement already satisfied: opt-einsum>=2.3.2 in /usr/local/lib/python3.10/dist-packages (from tensorflow) (3.3.0)\n",
            "Requirement already satisfied: packaging in /usr/local/lib/python3.10/dist-packages (from tensorflow) (24.0)\n",
            "Requirement already satisfied: protobuf!=4.21.0,!=4.21.1,!=4.21.2,!=4.21.3,!=4.21.4,!=4.21.5,<5.0.0dev,>=3.20.3 in /usr/local/lib/python3.10/dist-packages (from tensorflow) (3.20.3)\n",
            "Requirement already satisfied: setuptools in /usr/local/lib/python3.10/dist-packages (from tensorflow) (67.7.2)\n",
            "Requirement already satisfied: six>=1.12.0 in /usr/local/lib/python3.10/dist-packages (from tensorflow) (1.16.0)\n",
            "Requirement already satisfied: termcolor>=1.1.0 in /usr/local/lib/python3.10/dist-packages (from tensorflow) (2.4.0)\n",
            "Requirement already satisfied: typing-extensions>=3.6.6 in /usr/local/lib/python3.10/dist-packages (from tensorflow) (4.11.0)\n",
            "Requirement already satisfied: wrapt<1.15,>=1.11.0 in /usr/local/lib/python3.10/dist-packages (from tensorflow) (1.14.1)\n",
            "Requirement already satisfied: tensorflow-io-gcs-filesystem>=0.23.1 in /usr/local/lib/python3.10/dist-packages (from tensorflow) (0.36.0)\n",
            "Requirement already satisfied: grpcio<2.0,>=1.24.3 in /usr/local/lib/python3.10/dist-packages (from tensorflow) (1.62.1)\n",
            "Requirement already satisfied: tensorboard<2.16,>=2.15 in /usr/local/lib/python3.10/dist-packages (from tensorflow) (2.15.2)\n",
            "Requirement already satisfied: tensorflow-estimator<2.16,>=2.15.0 in /usr/local/lib/python3.10/dist-packages (from tensorflow) (2.15.0)\n",
            "Requirement already satisfied: keras<2.16,>=2.15.0 in /usr/local/lib/python3.10/dist-packages (from tensorflow) (2.15.0)\n",
            "Requirement already satisfied: scipy>=1.3.2 in /usr/local/lib/python3.10/dist-packages (from scikit-learn) (1.11.4)\n",
            "Requirement already satisfied: joblib>=1.1.1 in /usr/local/lib/python3.10/dist-packages (from scikit-learn) (1.4.0)\n",
            "Requirement already satisfied: threadpoolctl>=2.0.0 in /usr/local/lib/python3.10/dist-packages (from scikit-learn) (3.4.0)\n",
            "Requirement already satisfied: contourpy>=1.0.1 in /usr/local/lib/python3.10/dist-packages (from matplotlib) (1.2.1)\n",
            "Requirement already satisfied: cycler>=0.10 in /usr/local/lib/python3.10/dist-packages (from matplotlib) (0.12.1)\n",
            "Requirement already satisfied: fonttools>=4.22.0 in /usr/local/lib/python3.10/dist-packages (from matplotlib) (4.51.0)\n",
            "Requirement already satisfied: kiwisolver>=1.0.1 in /usr/local/lib/python3.10/dist-packages (from matplotlib) (1.4.5)\n",
            "Requirement already satisfied: pillow>=6.2.0 in /usr/local/lib/python3.10/dist-packages (from matplotlib) (9.4.0)\n",
            "Requirement already satisfied: pyparsing>=2.3.1 in /usr/local/lib/python3.10/dist-packages (from matplotlib) (3.1.2)\n",
            "Requirement already satisfied: python-dateutil>=2.7 in /usr/local/lib/python3.10/dist-packages (from matplotlib) (2.8.2)\n",
            "Requirement already satisfied: wheel<1.0,>=0.23.0 in /usr/local/lib/python3.10/dist-packages (from astunparse>=1.6.0->tensorflow) (0.43.0)\n",
            "Requirement already satisfied: google-auth<3,>=1.6.3 in /usr/local/lib/python3.10/dist-packages (from tensorboard<2.16,>=2.15->tensorflow) (2.27.0)\n",
            "Requirement already satisfied: google-auth-oauthlib<2,>=0.5 in /usr/local/lib/python3.10/dist-packages (from tensorboard<2.16,>=2.15->tensorflow) (1.2.0)\n",
            "Requirement already satisfied: markdown>=2.6.8 in /usr/local/lib/python3.10/dist-packages (from tensorboard<2.16,>=2.15->tensorflow) (3.6)\n",
            "Requirement already satisfied: requests<3,>=2.21.0 in /usr/local/lib/python3.10/dist-packages (from tensorboard<2.16,>=2.15->tensorflow) (2.31.0)\n",
            "Requirement already satisfied: tensorboard-data-server<0.8.0,>=0.7.0 in /usr/local/lib/python3.10/dist-packages (from tensorboard<2.16,>=2.15->tensorflow) (0.7.2)\n",
            "Requirement already satisfied: werkzeug>=1.0.1 in /usr/local/lib/python3.10/dist-packages (from tensorboard<2.16,>=2.15->tensorflow) (3.0.2)\n",
            "Requirement already satisfied: cachetools<6.0,>=2.0.0 in /usr/local/lib/python3.10/dist-packages (from google-auth<3,>=1.6.3->tensorboard<2.16,>=2.15->tensorflow) (5.3.3)\n",
            "Requirement already satisfied: pyasn1-modules>=0.2.1 in /usr/local/lib/python3.10/dist-packages (from google-auth<3,>=1.6.3->tensorboard<2.16,>=2.15->tensorflow) (0.4.0)\n",
            "Requirement already satisfied: rsa<5,>=3.1.4 in /usr/local/lib/python3.10/dist-packages (from google-auth<3,>=1.6.3->tensorboard<2.16,>=2.15->tensorflow) (4.9)\n",
            "Requirement already satisfied: requests-oauthlib>=0.7.0 in /usr/local/lib/python3.10/dist-packages (from google-auth-oauthlib<2,>=0.5->tensorboard<2.16,>=2.15->tensorflow) (1.3.1)\n",
            "Requirement already satisfied: charset-normalizer<4,>=2 in /usr/local/lib/python3.10/dist-packages (from requests<3,>=2.21.0->tensorboard<2.16,>=2.15->tensorflow) (3.3.2)\n",
            "Requirement already satisfied: idna<4,>=2.5 in /usr/local/lib/python3.10/dist-packages (from requests<3,>=2.21.0->tensorboard<2.16,>=2.15->tensorflow) (3.7)\n",
            "Requirement already satisfied: urllib3<3,>=1.21.1 in /usr/local/lib/python3.10/dist-packages (from requests<3,>=2.21.0->tensorboard<2.16,>=2.15->tensorflow) (2.0.7)\n",
            "Requirement already satisfied: certifi>=2017.4.17 in /usr/local/lib/python3.10/dist-packages (from requests<3,>=2.21.0->tensorboard<2.16,>=2.15->tensorflow) (2024.2.2)\n",
            "Requirement already satisfied: MarkupSafe>=2.1.1 in /usr/local/lib/python3.10/dist-packages (from werkzeug>=1.0.1->tensorboard<2.16,>=2.15->tensorflow) (2.1.5)\n",
            "Requirement already satisfied: pyasn1<0.7.0,>=0.4.6 in /usr/local/lib/python3.10/dist-packages (from pyasn1-modules>=0.2.1->google-auth<3,>=1.6.3->tensorboard<2.16,>=2.15->tensorflow) (0.6.0)\n",
            "Requirement already satisfied: oauthlib>=3.0.0 in /usr/local/lib/python3.10/dist-packages (from requests-oauthlib>=0.7.0->google-auth-oauthlib<2,>=0.5->tensorboard<2.16,>=2.15->tensorflow) (3.2.2)\n"
          ]
        }
      ],
      "source": [
        "!pip install tensorflow scikit-learn matplotlib"
      ]
    },
    {
      "cell_type": "markdown",
      "metadata": {
        "id": "WTocTJ5ZCz4k"
      },
      "source": [
        "# Importing Libraries"
      ]
    },
    {
      "cell_type": "code",
      "execution_count": null,
      "metadata": {
        "id": "mX7UU2xFC-mh"
      },
      "outputs": [],
      "source": [
        "from tensorflow import keras\n",
        "from tensorflow.keras.applications.resnet50 import ResNet50\n",
        "from tensorflow.keras.preprocessing.image import ImageDataGenerator\n",
        "from tensorflow.keras.models import Sequential\n",
        "from tensorflow.keras.layers import Conv2D, Flatten, MaxPooling2D, Dense, Dropout, GlobalAveragePooling2D\n",
        "from tensorflow.keras import optimizers, losses\n",
        "from tensorflow.keras.callbacks import ModelCheckpoint\n",
        "from tensorflow.keras.preprocessing import image\n",
        "\n",
        "import pickle\n",
        "import numpy as np\n",
        "import matplotlib.pyplot as plt\n",
        "\n",
        "import warnings\n",
        "warnings.filterwarnings(\"ignore\")"
      ]
    },
    {
      "cell_type": "code",
      "execution_count": null,
      "metadata": {
        "id": "GvbEarjND366"
      },
      "outputs": [],
      "source": [
        "data_dir = '/content/gdrive/MyDrive/ISIC_Labelled -4GB'"
      ]
    },
    {
      "cell_type": "markdown",
      "metadata": {
        "id": "f-Lo67ywEdPC"
      },
      "source": [
        "# Load Images For Training & Testing"
      ]
    },
    {
      "cell_type": "code",
      "execution_count": null,
      "metadata": {
        "colab": {
          "base_uri": "https://localhost:8080/"
        },
        "id": "-khVkXMREhI6",
        "outputId": "ad1956dc-fc26-484e-c9a1-f73923081228"
      },
      "outputs": [
        {
          "output_type": "stream",
          "name": "stdout",
          "text": [
            "Found 6837 images belonging to 8 classes.\n",
            "Found 1704 images belonging to 8 classes.\n"
          ]
        }
      ],
      "source": [
        "datagenerator = {\n",
        "    \"train\": ImageDataGenerator(horizontal_flip=True,\n",
        "                                vertical_flip=True,\n",
        "                                rescale=1. / 255,\n",
        "                                validation_split=0.2,\n",
        "                                shear_range=0.1,\n",
        "                                zoom_range=0.1,\n",
        "                                width_shift_range=0.1,\n",
        "                                height_shift_range=0.1,\n",
        "                                rotation_range=30,\n",
        "                               ).flow_from_directory(directory=data_dir,\n",
        "                                                     target_size=(256, 256),\n",
        "                                                     subset='training',\n",
        "                                                    ),\n",
        "\n",
        "    \"valid\": ImageDataGenerator(rescale=1 / 255,\n",
        "                                validation_split=0.2,\n",
        "                               ).flow_from_directory(directory=data_dir,\n",
        "                                                     target_size=(256, 256),\n",
        "                                                     subset='validation',\n",
        "                                                    ),\n",
        "}"
      ]
    },
    {
      "cell_type": "markdown",
      "metadata": {
        "id": "hReTqBytHNBE"
      },
      "source": [
        "# Initialize ResNet50 Pretrained Model"
      ]
    },
    {
      "cell_type": "code",
      "execution_count": null,
      "metadata": {
        "colab": {
          "base_uri": "https://localhost:8080/"
        },
        "id": "B3jmNnoJHRFz",
        "outputId": "3058ecc8-f16a-4291-8740-a2b37ec720e8"
      },
      "outputs": [
        {
          "output_type": "stream",
          "name": "stdout",
          "text": [
            "Downloading data from https://storage.googleapis.com/tensorflow/keras-applications/resnet/resnet50_weights_tf_dim_ordering_tf_kernels_notop.h5\n",
            "94765736/94765736 [==============================] - 0s 0us/step\n"
          ]
        }
      ],
      "source": [
        "# Initializing resnet50 (pretrained) model with input image shape as (256, 256, 3)\n",
        "\n",
        "base_model = ResNet50(weights='imagenet', include_top=False, input_shape=(256, 256, 3), classes=8)\n",
        "\n",
        "\n",
        "# Setting the Training of all layers of resnet50 model to false\n",
        "base_model.trainable = False"
      ]
    },
    {
      "cell_type": "markdown",
      "metadata": {
        "id": "mKh7Vbs9ju6N"
      },
      "source": [
        "# Add Custom Layer"
      ]
    },
    {
      "cell_type": "code",
      "execution_count": null,
      "metadata": {
        "id": "iR_qoiqojunI"
      },
      "outputs": [],
      "source": [
        "# Adding some more layers at the end of the Model as per our requirement\n",
        "model = Sequential([\n",
        "    base_model,\n",
        "    GlobalAveragePooling2D(),\n",
        "    Dropout(0.15),\n",
        "    Dense(1024, activation='relu'),\n",
        "    Dense(8, activation='softmax') # 8 Output Neurons for 8 Classes\n",
        "])"
      ]
    },
    {
      "cell_type": "code",
      "execution_count": null,
      "metadata": {
        "id": "5yH60xPtmh_w"
      },
      "outputs": [],
      "source": [
        "# Using the Adam Optimizer to set the learning rate of our final model\n",
        "opt = optimizers.Adam(learning_rate=0.0001)\n",
        "\n",
        "# Compiling and setting the parameters we want our model to use\n",
        "model.compile(loss=\"categorical_crossentropy\", optimizer=opt, metrics=['accuracy'])"
      ]
    },
    {
      "cell_type": "markdown",
      "metadata": {
        "id": "-WO2--oampof"
      },
      "source": [
        "# View Model Summary & Plot"
      ]
    },
    {
      "cell_type": "code",
      "execution_count": null,
      "metadata": {
        "colab": {
          "base_uri": "https://localhost:8080/"
        },
        "id": "x4yN29bcmqvF",
        "outputId": "d49976a2-907f-4583-e65a-317ccbd08bbc"
      },
      "outputs": [
        {
          "output_type": "stream",
          "name": "stdout",
          "text": [
            "Model: \"sequential\"\n",
            "_________________________________________________________________\n",
            " Layer (type)                Output Shape              Param #   \n",
            "=================================================================\n",
            " resnet50 (Functional)       (None, 8, 8, 2048)        23587712  \n",
            "                                                                 \n",
            " global_average_pooling2d (  (None, 2048)              0         \n",
            " GlobalAveragePooling2D)                                         \n",
            "                                                                 \n",
            " dropout (Dropout)           (None, 2048)              0         \n",
            "                                                                 \n",
            " dense (Dense)               (None, 1024)              2098176   \n",
            "                                                                 \n",
            " dense_1 (Dense)             (None, 8)                 8200      \n",
            "                                                                 \n",
            "=================================================================\n",
            "Total params: 25694088 (98.02 MB)\n",
            "Trainable params: 2106376 (8.04 MB)\n",
            "Non-trainable params: 23587712 (89.98 MB)\n",
            "_________________________________________________________________\n"
          ]
        }
      ],
      "source": [
        "# Viewing the summary of the model\n",
        "model.summary()"
      ]
    },
    {
      "cell_type": "code",
      "execution_count": null,
      "metadata": {
        "colab": {
          "base_uri": "https://localhost:8080/",
          "height": 644
        },
        "id": "Y5rnw4X4m5UP",
        "outputId": "c6e6f0c0-e98b-4145-bb06-7d6d2bba010f"
      },
      "outputs": [
        {
          "output_type": "execute_result",
          "data": {
            "image/png": "[encoded data removed]",
            "text/plain": [
              "<IPython.core.display.Image object>"
            ]
          },
          "metadata": {},
          "execution_count": 12
        }
      ],
      "source": [
        "from tensorflow.keras.utils import plot_model\n",
        "plot_model(model, show_shapes=True, show_layer_names=True)"
      ]
    },
    {
      "cell_type": "markdown",
      "metadata": {
        "id": "BzlQFWNYoYk6"
      },
      "source": [
        "# Model Building"
      ]
    },
    {
      "cell_type": "code",
      "execution_count": null,
      "metadata": {
        "id": "z0A2Z2WCoWYn"
      },
      "outputs": [],
      "source": [
        "# Setting variables for the model\n",
        "batch_size = 32\n",
        "epochs = 30\n",
        "\n",
        "# Seperating Training and Testing Data\n",
        "train_generator = datagenerator[\"train\"]\n",
        "valid_generator = datagenerator[\"valid\"]"
      ]
    },
    {
      "cell_type": "code",
      "execution_count": null,
      "metadata": {
        "colab": {
          "base_uri": "https://localhost:8080/"
        },
        "id": "OCAHpwWhrTu-",
        "outputId": "4ae8af78-7de2-408d-a8e6-88bae7bc63c0"
      },
      "outputs": [
        {
          "output_type": "stream",
          "name": "stdout",
          "text": [
            "steps_per_epoch : 213\n",
            "validation_steps : 53\n"
          ]
        }
      ],
      "source": [
        "# Calculating variables for the model\n",
        "steps_per_epoch = train_generator.n // batch_size\n",
        "validation_steps = valid_generator.n // batch_size\n",
        "\n",
        "print(\"steps_per_epoch :\", steps_per_epoch)\n",
        "print(\"validation_steps :\", validation_steps)"
      ]
    },
    {
      "cell_type": "markdown",
      "metadata": {
        "id": "Qp-lfybAsKzD"
      },
      "source": [
        "# Model Training"
      ]
    },
    {
      "cell_type": "code",
      "execution_count": null,
      "metadata": {
        "colab": {
          "base_uri": "https://localhost:8080/"
        },
        "id": "Y0xmaQW6sM2e",
        "outputId": "3092656d-4972-4ff0-9e8d-b082ebe8f40a"
      },
      "outputs": [
        {
          "output_type": "stream",
          "name": "stdout",
          "text": [
            "Epoch 1/30\n",
            "213/213 [==============================] - 4270s 20s/step - loss: 1.8455 - accuracy: 0.2553 - val_loss: 1.7870 - val_accuracy: 0.2917\n",
            "Epoch 2/30\n",
            "213/213 [==============================] - 2242s 11s/step - loss: 1.8136 - accuracy: 0.2795 - val_loss: 1.7893 - val_accuracy: 0.2940\n",
            "Epoch 3/30\n",
            "213/213 [==============================] - 2247s 11s/step - loss: 1.7984 - accuracy: 0.2935 - val_loss: 1.7784 - val_accuracy: 0.3216\n",
            "Epoch 4/30\n",
            "213/213 [==============================] - 2250s 11s/step - loss: 1.7890 - accuracy: 0.2982 - val_loss: 1.7762 - val_accuracy: 0.3063\n",
            "Epoch 5/30\n",
            "213/213 [==============================] - 2197s 10s/step - loss: 1.7849 - accuracy: 0.2940 - val_loss: 1.7786 - val_accuracy: 0.2993\n",
            "Epoch 6/30\n",
            "213/213 [==============================] - 2224s 10s/step - loss: 1.7796 - accuracy: 0.3064 - val_loss: 1.8160 - val_accuracy: 0.2136\n",
            "Epoch 7/30\n",
            "213/213 [==============================] - 2196s 10s/step - loss: 1.7802 - accuracy: 0.3060 - val_loss: 1.7638 - val_accuracy: 0.3333\n",
            "Epoch 8/30\n",
            "213/213 [==============================] - 2242s 11s/step - loss: 1.7686 - accuracy: 0.3181 - val_loss: 1.7588 - val_accuracy: 0.3310\n",
            "Epoch 9/30\n",
            "213/213 [==============================] - 2185s 10s/step - loss: 1.7700 - accuracy: 0.3126 - val_loss: 1.7524 - val_accuracy: 0.3550\n",
            "Epoch 10/30\n",
            "213/213 [==============================] - 2184s 10s/step - loss: 1.7674 - accuracy: 0.3136 - val_loss: 1.7614 - val_accuracy: 0.2999\n",
            "Epoch 11/30\n",
            "213/213 [==============================] - 2181s 10s/step - loss: 1.7613 - accuracy: 0.3221 - val_loss: 1.7499 - val_accuracy: 0.3187\n",
            "Epoch 12/30\n",
            "213/213 [==============================] - 2215s 10s/step - loss: 1.7658 - accuracy: 0.3199 - val_loss: 1.7621 - val_accuracy: 0.3386\n",
            "Epoch 13/30\n",
            "213/213 [==============================] - 2207s 10s/step - loss: 1.7626 - accuracy: 0.3198 - val_loss: 1.7419 - val_accuracy: 0.3228\n",
            "Epoch 14/30\n",
            "213/213 [==============================] - 2191s 10s/step - loss: 1.7630 - accuracy: 0.3204 - val_loss: 1.7703 - val_accuracy: 0.3099\n",
            "Epoch 15/30\n",
            "213/213 [==============================] - 2192s 10s/step - loss: 1.7610 - accuracy: 0.3198 - val_loss: 1.7433 - val_accuracy: 0.3838\n",
            "Epoch 16/30\n",
            "213/213 [==============================] - 2158s 10s/step - loss: 1.7609 - accuracy: 0.3177 - val_loss: 1.7458 - val_accuracy: 0.3269\n",
            "Epoch 17/30\n",
            "213/213 [==============================] - 2202s 10s/step - loss: 1.7608 - accuracy: 0.3176 - val_loss: 1.7270 - val_accuracy: 0.3351\n",
            "Epoch 18/30\n",
            "213/213 [==============================] - 2188s 10s/step - loss: 1.7525 - accuracy: 0.3205 - val_loss: 1.7273 - val_accuracy: 0.3380\n",
            "Epoch 19/30\n",
            "117/213 [===============>..............] - ETA: 13:24 - loss: 1.7494 - accuracy: 0.3367"
          ]
        }
      ],
      "source": [
        "history = model.fit(\n",
        "    train_generator,\n",
        "    steps_per_epoch=train_generator.samples // train_generator.batch_size,\n",
        "    epochs=30,\n",
        "    validation_data=valid_generator,\n",
        "    validation_steps=valid_generator.samples/valid_generator.batch_size,\n",
        "    verbose=1\n",
        ")"
      ]
    }
  ],
  "metadata": {
    "colab": {
      "provenance": []
    },
    "kernelspec": {
      "display_name": "Python 3",
      "name": "python3"
    },
    "language_info": {
      "name": "python"
    }
  },
  "nbformat": 4,
  "nbformat_minor": 0
}